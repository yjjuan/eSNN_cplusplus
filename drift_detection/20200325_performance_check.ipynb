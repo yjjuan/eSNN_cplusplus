{
 "cells": [
  {
   "cell_type": "markdown",
   "metadata": {},
   "source": [
    "# Check the performance of eSNN for drift detection"
   ]
  },
  {
   "cell_type": "code",
   "execution_count": 2,
   "metadata": {},
   "outputs": [],
   "source": [
    "import pandas as pd\n",
    "import numpy as np\n",
    "import matplotlib.pyplot as plt"
   ]
  },
  {
   "cell_type": "markdown",
   "metadata": {},
   "source": [
    "## On AWS dataset"
   ]
  },
  {
   "cell_type": "code",
   "execution_count": 8,
   "metadata": {},
   "outputs": [
    {
     "name": "stdout",
     "output_type": "stream",
     "text": [
      "Shape of df =  (4032, 7)\n"
     ]
    },
    {
     "data": {
      "text/html": [
       "<div>\n",
       "<style scoped>\n",
       "    .dataframe tbody tr th:only-of-type {\n",
       "        vertical-align: middle;\n",
       "    }\n",
       "\n",
       "    .dataframe tbody tr th {\n",
       "        vertical-align: top;\n",
       "    }\n",
       "\n",
       "    .dataframe thead th {\n",
       "        text-align: right;\n",
       "    }\n",
       "</style>\n",
       "<table border=\"1\" class=\"dataframe\">\n",
       "  <thead>\n",
       "    <tr style=\"text-align: right;\">\n",
       "      <th></th>\n",
       "      <th>timestamp</th>\n",
       "      <th>value</th>\n",
       "      <th>predicted_value</th>\n",
       "      <th>error</th>\n",
       "      <th>p_label</th>\n",
       "      <th>fired</th>\n",
       "      <th>r_label</th>\n",
       "    </tr>\n",
       "  </thead>\n",
       "  <tbody>\n",
       "    <tr>\n",
       "      <th>0</th>\n",
       "      <td>2014-02-14 14:27:00</td>\n",
       "      <td>51.846</td>\n",
       "      <td>46.333914</td>\n",
       "      <td>5.512086</td>\n",
       "      <td>0</td>\n",
       "      <td>-1</td>\n",
       "      <td>0</td>\n",
       "    </tr>\n",
       "    <tr>\n",
       "      <th>1</th>\n",
       "      <td>2014-02-14 14:32:00</td>\n",
       "      <td>44.508</td>\n",
       "      <td>41.781123</td>\n",
       "      <td>2.726877</td>\n",
       "      <td>0</td>\n",
       "      <td>-1</td>\n",
       "      <td>0</td>\n",
       "    </tr>\n",
       "    <tr>\n",
       "      <th>2</th>\n",
       "      <td>2014-02-14 14:37:00</td>\n",
       "      <td>41.244</td>\n",
       "      <td>45.018754</td>\n",
       "      <td>3.774754</td>\n",
       "      <td>0</td>\n",
       "      <td>-1</td>\n",
       "      <td>0</td>\n",
       "    </tr>\n",
       "    <tr>\n",
       "      <th>3</th>\n",
       "      <td>2014-02-14 14:42:00</td>\n",
       "      <td>48.568</td>\n",
       "      <td>45.339068</td>\n",
       "      <td>3.228932</td>\n",
       "      <td>0</td>\n",
       "      <td>-1</td>\n",
       "      <td>0</td>\n",
       "    </tr>\n",
       "    <tr>\n",
       "      <th>4</th>\n",
       "      <td>2014-02-14 14:47:00</td>\n",
       "      <td>46.714</td>\n",
       "      <td>42.213539</td>\n",
       "      <td>4.500461</td>\n",
       "      <td>0</td>\n",
       "      <td>-1</td>\n",
       "      <td>0</td>\n",
       "    </tr>\n",
       "    <tr>\n",
       "      <th>5</th>\n",
       "      <td>2014-02-14 14:52:00</td>\n",
       "      <td>44.986</td>\n",
       "      <td>42.999480</td>\n",
       "      <td>1.986520</td>\n",
       "      <td>0</td>\n",
       "      <td>-1</td>\n",
       "      <td>0</td>\n",
       "    </tr>\n",
       "    <tr>\n",
       "      <th>6</th>\n",
       "      <td>2014-02-14 14:57:00</td>\n",
       "      <td>49.108</td>\n",
       "      <td>54.637074</td>\n",
       "      <td>5.529074</td>\n",
       "      <td>0</td>\n",
       "      <td>-1</td>\n",
       "      <td>0</td>\n",
       "    </tr>\n",
       "    <tr>\n",
       "      <th>7</th>\n",
       "      <td>2014-02-14 15:02:00</td>\n",
       "      <td>40.470</td>\n",
       "      <td>46.004247</td>\n",
       "      <td>5.534247</td>\n",
       "      <td>0</td>\n",
       "      <td>-1</td>\n",
       "      <td>0</td>\n",
       "    </tr>\n",
       "    <tr>\n",
       "      <th>8</th>\n",
       "      <td>2014-02-14 15:07:00</td>\n",
       "      <td>53.404</td>\n",
       "      <td>49.537426</td>\n",
       "      <td>3.866574</td>\n",
       "      <td>0</td>\n",
       "      <td>-1</td>\n",
       "      <td>0</td>\n",
       "    </tr>\n",
       "    <tr>\n",
       "      <th>9</th>\n",
       "      <td>2014-02-14 15:12:00</td>\n",
       "      <td>45.400</td>\n",
       "      <td>45.082586</td>\n",
       "      <td>0.317414</td>\n",
       "      <td>0</td>\n",
       "      <td>-1</td>\n",
       "      <td>0</td>\n",
       "    </tr>\n",
       "  </tbody>\n",
       "</table>\n",
       "</div>"
      ],
      "text/plain": [
       "             timestamp   value  predicted_value     error  p_label  fired  \\\n",
       "0  2014-02-14 14:27:00  51.846        46.333914  5.512086        0     -1   \n",
       "1  2014-02-14 14:32:00  44.508        41.781123  2.726877        0     -1   \n",
       "2  2014-02-14 14:37:00  41.244        45.018754  3.774754        0     -1   \n",
       "3  2014-02-14 14:42:00  48.568        45.339068  3.228932        0     -1   \n",
       "4  2014-02-14 14:47:00  46.714        42.213539  4.500461        0     -1   \n",
       "5  2014-02-14 14:52:00  44.986        42.999480  1.986520        0     -1   \n",
       "6  2014-02-14 14:57:00  49.108        54.637074  5.529074        0     -1   \n",
       "7  2014-02-14 15:02:00  40.470        46.004247  5.534247        0     -1   \n",
       "8  2014-02-14 15:07:00  53.404        49.537426  3.866574        0     -1   \n",
       "9  2014-02-14 15:12:00  45.400        45.082586  0.317414        0     -1   \n",
       "\n",
       "   r_label  \n",
       "0        0  \n",
       "1        0  \n",
       "2        0  \n",
       "3        0  \n",
       "4        0  \n",
       "5        0  \n",
       "6        0  \n",
       "7        0  \n",
       "8        0  \n",
       "9        0  "
      ]
     },
     "execution_count": 8,
     "metadata": {},
     "output_type": "execute_result"
    }
   ],
   "source": [
    "filename = './models_zoo/NAB/realAWSCloudwatch_ec2_cpu_utilization_5f5533.csv'\n",
    "\n",
    "df = pd.read_csv(filename)\n",
    "print(\"Shape of df = \", df2.shape)\n",
    "df.head(10)"
   ]
  },
  {
   "cell_type": "code",
   "execution_count": 9,
   "metadata": {},
   "outputs": [
    {
     "data": {
      "image/png": "[encoded data removed]",
      "text/plain": [
       "<Figure size 800x560 with 3 Axes>"
      ]
     },
     "metadata": {
      "needs_background": "light"
     },
     "output_type": "display_data"
    }
   ],
   "source": [
    "fig, ax = plt.subplots(3, 1, figsize=(10, 7), sharex='col', dpi=80)\n",
    "\n",
    "end_idx = 100000\n",
    "ax[0].set_title('raw signal', fontsize=12)\n",
    "ax[0].plot(df['value'].values[:end_idx],'-')\n",
    "#ax[0].vlines(boundary, 0, 2, colors='k', linestyles='dashed')\n",
    "\n",
    "ax[1].set_title('Prediction from eSNN', fontsize=12)\n",
    "ax[1].plot(df['p_label'].values[:end_idx],'o')\n",
    "\n",
    "ax[2].set_title('Ground truth', fontsize=12)\n",
    "ax[2].plot(df['r_label'].values[:end_idx],'o')\n",
    "\n",
    "plt.tight_layout()"
   ]
  },
  {
   "cell_type": "markdown",
   "metadata": {},
   "source": [
    "## filename: AAPL"
   ]
  },
  {
   "cell_type": "code",
   "execution_count": 4,
   "metadata": {},
   "outputs": [
    {
     "name": "stdout",
     "output_type": "stream",
     "text": [
      "Shape of df =  (15902, 7)\n"
     ]
    },
    {
     "data": {
      "text/html": [
       "<div>\n",
       "<style scoped>\n",
       "    .dataframe tbody tr th:only-of-type {\n",
       "        vertical-align: middle;\n",
       "    }\n",
       "\n",
       "    .dataframe tbody tr th {\n",
       "        vertical-align: top;\n",
       "    }\n",
       "\n",
       "    .dataframe thead th {\n",
       "        text-align: right;\n",
       "    }\n",
       "</style>\n",
       "<table border=\"1\" class=\"dataframe\">\n",
       "  <thead>\n",
       "    <tr style=\"text-align: right;\">\n",
       "      <th></th>\n",
       "      <th>timestamp</th>\n",
       "      <th>value</th>\n",
       "      <th>predicted_value</th>\n",
       "      <th>error</th>\n",
       "      <th>p_label</th>\n",
       "      <th>fired</th>\n",
       "      <th>r_label</th>\n",
       "    </tr>\n",
       "  </thead>\n",
       "  <tbody>\n",
       "    <tr>\n",
       "      <th>0</th>\n",
       "      <td>2015/2/26 21:42</td>\n",
       "      <td>104</td>\n",
       "      <td>69.040932</td>\n",
       "      <td>34.959068</td>\n",
       "      <td>0</td>\n",
       "      <td>-1</td>\n",
       "      <td>0</td>\n",
       "    </tr>\n",
       "    <tr>\n",
       "      <th>1</th>\n",
       "      <td>2015/2/26 21:47</td>\n",
       "      <td>100</td>\n",
       "      <td>62.974168</td>\n",
       "      <td>37.025832</td>\n",
       "      <td>0</td>\n",
       "      <td>-1</td>\n",
       "      <td>0</td>\n",
       "    </tr>\n",
       "    <tr>\n",
       "      <th>2</th>\n",
       "      <td>2015/2/26 21:52</td>\n",
       "      <td>99</td>\n",
       "      <td>62.191903</td>\n",
       "      <td>36.808097</td>\n",
       "      <td>0</td>\n",
       "      <td>-1</td>\n",
       "      <td>0</td>\n",
       "    </tr>\n",
       "    <tr>\n",
       "      <th>3</th>\n",
       "      <td>2015/2/26 21:57</td>\n",
       "      <td>154</td>\n",
       "      <td>83.511808</td>\n",
       "      <td>70.488192</td>\n",
       "      <td>0</td>\n",
       "      <td>-1</td>\n",
       "      <td>0</td>\n",
       "    </tr>\n",
       "    <tr>\n",
       "      <th>4</th>\n",
       "      <td>2015/2/26 22:02</td>\n",
       "      <td>120</td>\n",
       "      <td>90.856868</td>\n",
       "      <td>29.143132</td>\n",
       "      <td>0</td>\n",
       "      <td>-1</td>\n",
       "      <td>0</td>\n",
       "    </tr>\n",
       "    <tr>\n",
       "      <th>5</th>\n",
       "      <td>2015/2/26 22:07</td>\n",
       "      <td>90</td>\n",
       "      <td>20.967030</td>\n",
       "      <td>69.032970</td>\n",
       "      <td>0</td>\n",
       "      <td>-1</td>\n",
       "      <td>0</td>\n",
       "    </tr>\n",
       "    <tr>\n",
       "      <th>6</th>\n",
       "      <td>2015/2/26 22:12</td>\n",
       "      <td>92</td>\n",
       "      <td>85.596921</td>\n",
       "      <td>6.403079</td>\n",
       "      <td>0</td>\n",
       "      <td>-1</td>\n",
       "      <td>0</td>\n",
       "    </tr>\n",
       "    <tr>\n",
       "      <th>7</th>\n",
       "      <td>2015/2/26 22:17</td>\n",
       "      <td>71</td>\n",
       "      <td>100.498128</td>\n",
       "      <td>29.498128</td>\n",
       "      <td>0</td>\n",
       "      <td>-1</td>\n",
       "      <td>0</td>\n",
       "    </tr>\n",
       "    <tr>\n",
       "      <th>8</th>\n",
       "      <td>2015/2/26 22:22</td>\n",
       "      <td>339</td>\n",
       "      <td>-0.462820</td>\n",
       "      <td>339.462820</td>\n",
       "      <td>0</td>\n",
       "      <td>-1</td>\n",
       "      <td>0</td>\n",
       "    </tr>\n",
       "    <tr>\n",
       "      <th>9</th>\n",
       "      <td>2015/2/26 22:27</td>\n",
       "      <td>178</td>\n",
       "      <td>110.030587</td>\n",
       "      <td>67.969413</td>\n",
       "      <td>0</td>\n",
       "      <td>-1</td>\n",
       "      <td>0</td>\n",
       "    </tr>\n",
       "  </tbody>\n",
       "</table>\n",
       "</div>"
      ],
      "text/plain": [
       "         timestamp  value  predicted_value       error  p_label  fired  \\\n",
       "0  2015/2/26 21:42    104        69.040932   34.959068        0     -1   \n",
       "1  2015/2/26 21:47    100        62.974168   37.025832        0     -1   \n",
       "2  2015/2/26 21:52     99        62.191903   36.808097        0     -1   \n",
       "3  2015/2/26 21:57    154        83.511808   70.488192        0     -1   \n",
       "4  2015/2/26 22:02    120        90.856868   29.143132        0     -1   \n",
       "5  2015/2/26 22:07     90        20.967030   69.032970        0     -1   \n",
       "6  2015/2/26 22:12     92        85.596921    6.403079        0     -1   \n",
       "7  2015/2/26 22:17     71       100.498128   29.498128        0     -1   \n",
       "8  2015/2/26 22:22    339        -0.462820  339.462820        0     -1   \n",
       "9  2015/2/26 22:27    178       110.030587   67.969413        0     -1   \n",
       "\n",
       "   r_label  \n",
       "0        0  \n",
       "1        0  \n",
       "2        0  \n",
       "3        0  \n",
       "4        0  \n",
       "5        0  \n",
       "6        0  \n",
       "7        0  \n",
       "8        0  \n",
       "9        0  "
      ]
     },
     "execution_count": 4,
     "metadata": {},
     "output_type": "execute_result"
    }
   ],
   "source": [
    "filename = './models_zoo/NAB/realTweets_Twitter_volume_AAPL.csv'\n",
    "\n",
    "df = pd.read_csv(filename)\n",
    "print(\"Shape of df = \", df.shape)\n",
    "df.head(10)"
   ]
  },
  {
   "cell_type": "code",
   "execution_count": 9,
   "metadata": {},
   "outputs": [
    {
     "data": {
      "text/plain": [
       "[<matplotlib.lines.Line2D at 0x7f26406f94e0>]"
      ]
     },
     "execution_count": 9,
     "metadata": {},
     "output_type": "execute_result"
    },
    {
     "data": {
      "image/png": "[encoded data removed]",
      "text/plain": [
       "<Figure size 432x288 with 1 Axes>"
      ]
     },
     "metadata": {
      "needs_background": "light"
     },
     "output_type": "display_data"
    }
   ],
   "source": [
    "plt.plot(df['p_label'].values,'ro')\n",
    "plt.plot(df['r_label'].values,'bo')\n"
   ]
  },
  {
   "cell_type": "code",
   "execution_count": 19,
   "metadata": {},
   "outputs": [
    {
     "data": {
      "image/png": "[encoded data removed]",
      "text/plain": [
       "<Figure size 800x560 with 3 Axes>"
      ]
     },
     "metadata": {
      "needs_background": "light"
     },
     "output_type": "display_data"
    }
   ],
   "source": [
    "import matplotlib.pyplot as plt\n",
    "\n",
    "fig, ax = plt.subplots(3, 1, figsize=(10, 7), sharex='col', dpi=80)\n",
    "\n",
    "end_idx = 100000\n",
    "ax[0].set_title('raw signal', fontsize=12)\n",
    "ax[0].plot(df['value'].values[:end_idx],'-')\n",
    "#ax[0].vlines(boundary, 0, 2, colors='k', linestyles='dashed')\n",
    "\n",
    "ax[1].set_title('Prediction from eSNN', fontsize=12)\n",
    "ax[1].plot(df['p_label'].values[:end_idx],'o')\n",
    "\n",
    "ax[2].set_title('Ground truth', fontsize=12)\n",
    "ax[2].plot(df['r_label'].values[:end_idx],'o')\n",
    "\n",
    "plt.tight_layout()"
   ]
  },
  {
   "cell_type": "code",
   "execution_count": null,
   "metadata": {},
   "outputs": [],
   "source": []
  },
  {
   "cell_type": "markdown",
   "metadata": {},
   "source": [
    "## filename: AMZN"
   ]
  },
  {
   "cell_type": "code",
   "execution_count": 10,
   "metadata": {},
   "outputs": [
    {
     "name": "stdout",
     "output_type": "stream",
     "text": [
      "Shape of df =  (15831, 7)\n"
     ]
    },
    {
     "data": {
      "text/html": [
       "<div>\n",
       "<style scoped>\n",
       "    .dataframe tbody tr th:only-of-type {\n",
       "        vertical-align: middle;\n",
       "    }\n",
       "\n",
       "    .dataframe tbody tr th {\n",
       "        vertical-align: top;\n",
       "    }\n",
       "\n",
       "    .dataframe thead th {\n",
       "        text-align: right;\n",
       "    }\n",
       "</style>\n",
       "<table border=\"1\" class=\"dataframe\">\n",
       "  <thead>\n",
       "    <tr style=\"text-align: right;\">\n",
       "      <th></th>\n",
       "      <th>timestamp</th>\n",
       "      <th>value</th>\n",
       "      <th>predicted_value</th>\n",
       "      <th>error</th>\n",
       "      <th>p_label</th>\n",
       "      <th>fired</th>\n",
       "      <th>r_label</th>\n",
       "    </tr>\n",
       "  </thead>\n",
       "  <tbody>\n",
       "    <tr>\n",
       "      <th>0</th>\n",
       "      <td>2015/2/26 21:42</td>\n",
       "      <td>57</td>\n",
       "      <td>42.444180</td>\n",
       "      <td>14.555820</td>\n",
       "      <td>0</td>\n",
       "      <td>-1</td>\n",
       "      <td>0</td>\n",
       "    </tr>\n",
       "    <tr>\n",
       "      <th>1</th>\n",
       "      <td>2015/2/26 21:47</td>\n",
       "      <td>43</td>\n",
       "      <td>45.867072</td>\n",
       "      <td>2.867072</td>\n",
       "      <td>0</td>\n",
       "      <td>-1</td>\n",
       "      <td>0</td>\n",
       "    </tr>\n",
       "    <tr>\n",
       "      <th>2</th>\n",
       "      <td>2015/2/26 21:52</td>\n",
       "      <td>55</td>\n",
       "      <td>45.899319</td>\n",
       "      <td>9.100681</td>\n",
       "      <td>0</td>\n",
       "      <td>-1</td>\n",
       "      <td>0</td>\n",
       "    </tr>\n",
       "    <tr>\n",
       "      <th>3</th>\n",
       "      <td>2015/2/26 21:57</td>\n",
       "      <td>64</td>\n",
       "      <td>30.208432</td>\n",
       "      <td>33.791568</td>\n",
       "      <td>0</td>\n",
       "      <td>-1</td>\n",
       "      <td>0</td>\n",
       "    </tr>\n",
       "    <tr>\n",
       "      <th>4</th>\n",
       "      <td>2015/2/26 22:02</td>\n",
       "      <td>93</td>\n",
       "      <td>34.441044</td>\n",
       "      <td>58.558956</td>\n",
       "      <td>0</td>\n",
       "      <td>-1</td>\n",
       "      <td>0</td>\n",
       "    </tr>\n",
       "    <tr>\n",
       "      <th>5</th>\n",
       "      <td>2015/2/26 22:07</td>\n",
       "      <td>104</td>\n",
       "      <td>74.413282</td>\n",
       "      <td>29.586718</td>\n",
       "      <td>0</td>\n",
       "      <td>-1</td>\n",
       "      <td>0</td>\n",
       "    </tr>\n",
       "    <tr>\n",
       "      <th>6</th>\n",
       "      <td>2015/2/26 22:12</td>\n",
       "      <td>89</td>\n",
       "      <td>54.263967</td>\n",
       "      <td>34.736033</td>\n",
       "      <td>0</td>\n",
       "      <td>-1</td>\n",
       "      <td>0</td>\n",
       "    </tr>\n",
       "    <tr>\n",
       "      <th>7</th>\n",
       "      <td>2015/2/26 22:17</td>\n",
       "      <td>87</td>\n",
       "      <td>71.168681</td>\n",
       "      <td>15.831319</td>\n",
       "      <td>0</td>\n",
       "      <td>-1</td>\n",
       "      <td>0</td>\n",
       "    </tr>\n",
       "    <tr>\n",
       "      <th>8</th>\n",
       "      <td>2015/2/26 22:22</td>\n",
       "      <td>57</td>\n",
       "      <td>86.030321</td>\n",
       "      <td>29.030321</td>\n",
       "      <td>0</td>\n",
       "      <td>-1</td>\n",
       "      <td>0</td>\n",
       "    </tr>\n",
       "    <tr>\n",
       "      <th>9</th>\n",
       "      <td>2015/2/26 22:27</td>\n",
       "      <td>68</td>\n",
       "      <td>33.375013</td>\n",
       "      <td>34.624987</td>\n",
       "      <td>0</td>\n",
       "      <td>-1</td>\n",
       "      <td>0</td>\n",
       "    </tr>\n",
       "  </tbody>\n",
       "</table>\n",
       "</div>"
      ],
      "text/plain": [
       "         timestamp  value  predicted_value      error  p_label  fired  r_label\n",
       "0  2015/2/26 21:42     57        42.444180  14.555820        0     -1        0\n",
       "1  2015/2/26 21:47     43        45.867072   2.867072        0     -1        0\n",
       "2  2015/2/26 21:52     55        45.899319   9.100681        0     -1        0\n",
       "3  2015/2/26 21:57     64        30.208432  33.791568        0     -1        0\n",
       "4  2015/2/26 22:02     93        34.441044  58.558956        0     -1        0\n",
       "5  2015/2/26 22:07    104        74.413282  29.586718        0     -1        0\n",
       "6  2015/2/26 22:12     89        54.263967  34.736033        0     -1        0\n",
       "7  2015/2/26 22:17     87        71.168681  15.831319        0     -1        0\n",
       "8  2015/2/26 22:22     57        86.030321  29.030321        0     -1        0\n",
       "9  2015/2/26 22:27     68        33.375013  34.624987        0     -1        0"
      ]
     },
     "execution_count": 10,
     "metadata": {},
     "output_type": "execute_result"
    }
   ],
   "source": [
    "filename = './models_zoo/NAB/realTweets_Twitter_volume_AMZN.csv'\n",
    "\n",
    "df2 = pd.read_csv(filename)\n",
    "print(\"Shape of df = \", df2.shape)\n",
    "df2.head(10)"
   ]
  },
  {
   "cell_type": "code",
   "execution_count": 20,
   "metadata": {},
   "outputs": [
    {
     "data": {
      "image/png": "[encoded data removed]",
      "text/plain": [
       "<Figure size 800x560 with 3 Axes>"
      ]
     },
     "metadata": {
      "needs_background": "light"
     },
     "output_type": "display_data"
    }
   ],
   "source": [
    "import matplotlib.pyplot as plt\n",
    "\n",
    "fig, ax = plt.subplots(3, 1, figsize=(10, 7), sharex='col', dpi=80)\n",
    "\n",
    "end_idx = 100000\n",
    "ax[0].set_title('Raw Signal', fontsize=12)\n",
    "ax[0].plot(df2['value'].values[:end_idx],'-')\n",
    "#ax[0].vlines(boundary, 0, 2, colors='k', linestyles='dashed')\n",
    "\n",
    "ax[1].set_title('Detected by eSNN', fontsize=12)\n",
    "ax[1].plot(df2['p_label'].values[:end_idx],'o')\n",
    "\n",
    "ax[2].set_title('Ground Truth', fontsize=12)\n",
    "ax[2].plot(df2['r_label'].values[:end_idx],'o')\n",
    "\n",
    "plt.tight_layout()"
   ]
  },
  {
   "cell_type": "code",
   "execution_count": null,
   "metadata": {},
   "outputs": [],
   "source": []
  }
 ],
 "metadata": {
  "kernelspec": {
   "display_name": "Python 3",
   "language": "python",
   "name": "python3"
  },
  "language_info": {
   "codemirror_mode": {
    "name": "ipython",
    "version": 3
   },
   "file_extension": ".py",
   "mimetype": "text/x-python",
   "name": "python",
   "nbconvert_exporter": "python",
   "pygments_lexer": "ipython3",
   "version": "3.6.7"
  }
 },
 "nbformat": 4,
 "nbformat_minor": 4
}
